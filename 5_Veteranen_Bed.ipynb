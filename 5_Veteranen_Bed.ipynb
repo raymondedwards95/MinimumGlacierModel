{
 "cells": [
  {
   "cell_type": "code",
   "execution_count": 1,
   "metadata": {},
   "outputs": [],
   "source": [
    "import numpy as np\n",
    "import matplotlib.pyplot as plt"
   ]
  },
  {
   "cell_type": "markdown",
   "metadata": {},
   "source": [
    "## Land"
   ]
  },
  {
   "cell_type": "code",
   "execution_count": 2,
   "metadata": {},
   "outputs": [
    {
     "name": "stdout",
     "output_type": "stream",
     "text": [
      "[    0.  4700.  9400. 14300. 19000. 23600. 28100. 32500. 36000. 38700.\n",
      " 40900. 44900.]\n",
      "[1100. 1000.  900.  800.  700.  600.  500.  400.  300.  200.  100.    0.]\n"
     ]
    }
   ],
   "source": [
    "data_1 = [1100, 1000, 900, 800, 700, 600, 500, 400, 300, 200, 100, 0,\n",
    "0.0, 4700.0, 9400.0, 14300.0, 19000.0, 23600.0, 28100.0, 32500.0, 36000.0, 38700.0, 40900.0, 44900.0]\n",
    "data_1 = np.transpose(np.reshape(data_1, (2, np.int(np.size(data_1)/2))))\n",
    "\n",
    "dist_1 = data_1[:,1]\n",
    "elev_1 = data_1[:,0]\n",
    "print(dist_1)\n",
    "print(elev_1)\n",
    "\n",
    "data_1 = np.array([dist_1, elev_1]) # [:,0] --> distance, [:,1] --> elev"
   ]
  },
  {
   "cell_type": "code",
   "execution_count": 3,
   "metadata": {},
   "outputs": [
    {
     "name": "stdout",
     "output_type": "stream",
     "text": [
      "[    0.    1237.15  2741.73  4830.04  6679.54  8281.14  9850.54 11692.44\n",
      " 13240.94 14755.44 16642.24 18288.94 20123.44 22720.74 24841.74 27649.14\n",
      " 30273.24 32066.14 34160.64 35715.04 37578.64 39222.64 40026.64 40767.34\n",
      " 41531.64 42352.04 43393.24 44521.54 45839.24 47646.14 49076.54]\n",
      "[1120. 1099. 1078. 1078. 1026.  926.  902.  867.  829.  810.  768.  739.\n",
      "  695.  642.  599.  529.  492.  452.  388.  327.  294.  230.  211.  189.\n",
      "  155.  130.   65.   24.    9.    2.    0.]\n"
     ]
    }
   ],
   "source": [
    "data_2 = np.array([1120.0, 1099.0, 1078.0, 1078.0, 1026.0, 926.0, 902.0, 867.0, 829.0, 810.0, 768.0, 739.0, 695.0, 642.0, 599.0, 529.0, 492.0, 452.0, 388.0, 327.0, 294.0, 230.0, 211.0, 189.0, 155.0, 130.0, 65.0, 24.0, 9.0, 2.0, 0.0,\n",
    "0.0, 1237.1500000000005, 2741.7299999999996, 4830.040000000001, 6679.540000000001, 8281.14, 9850.54, 11692.439999999999, 13240.939999999999, 14755.439999999999, 16642.24, 18288.94, 20123.44, 22720.74, 24841.74, 27649.140000000003, 30273.24, 32066.140000000003, 34160.64, 35715.03999999999, 37578.64, 39222.64, 40026.64, 40767.34, 41531.64, 42352.03999999999, 43393.240000000005, 44521.53999999999, 45839.240000000005, 47646.14, 49076.53999999999])\n",
    "data_2 = np.transpose(np.reshape(data_2, (2, np.int(np.size(data_2)/2))))\n",
    "\n",
    "dist_2 = data_2[:,1]\n",
    "elev_2 = data_2[:,0]\n",
    "\n",
    "print(dist_2)\n",
    "print(elev_2)\n",
    "\n",
    "data_2 = np.array([dist_2, elev_2]) # [:,0] --> distance, [:,1] --> elev"
   ]
  },
  {
   "cell_type": "code",
   "execution_count": 4,
   "metadata": {},
   "outputs": [
    {
     "name": "stdout",
     "output_type": "stream",
     "text": [
      "(2, 12)\n",
      "(2, 31)\n"
     ]
    }
   ],
   "source": [
    "print(np.shape(data_1))\n",
    "print(np.shape(data_2))"
   ]
  },
  {
   "cell_type": "markdown",
   "metadata": {},
   "source": [
    "## Water"
   ]
  },
  {
   "cell_type": "code",
   "execution_count": 5,
   "metadata": {},
   "outputs": [
    {
     "name": "stdout",
     "output_type": "stream",
     "text": [
      "(20, 2)\n"
     ]
    }
   ],
   "source": [
    "dist_3 = 1e3*np.array([0.001, 0.74, 5.74, 8.77, 10.3, 12.3, 15.9, 18.4, 20.9, 22.1, 25.3, 27.8, 30.6, 32, 33.4, 34.5, 36, 37.9, 40, 41])\n",
    "elev_3 = -1*np.array([0, 50, 100, 114, 127, 103, 123, 93, 60, 80, 127, 122, 207, 184, 211, 157, 200, 300, 400, 400])\n",
    "\n",
    "data_3 = np.transpose(np.array([elev_3, dist_3]))\n",
    "print(np.shape(data_3))"
   ]
  },
  {
   "cell_type": "markdown",
   "metadata": {},
   "source": [
    "## Combine"
   ]
  },
  {
   "cell_type": "code",
   "execution_count": 6,
   "metadata": {},
   "outputs": [
    {
     "name": "stdout",
     "output_type": "stream",
     "text": [
      "(2, 20)\n",
      "(2, 12)\n",
      "(2, 20)\n",
      "(2, 31)\n"
     ]
    }
   ],
   "source": [
    "dist_31 = dist_1[-1] + dist_3\n",
    "data_31 = np.array([dist_31, elev_3])\n",
    "\n",
    "dist_32 = dist_2[-1] + dist_3\n",
    "data_32 = np.array([dist_32, elev_3])\n",
    "\n",
    "print(data_31.shape)\n",
    "print(data_1.shape)\n",
    "\n",
    "print(data_32.shape)\n",
    "print(data_2.shape)\n",
    "\n",
    "bed_1 = np.concatenate([data_1, data_31], axis=1)\n",
    "bed_2 = np.concatenate([data_2, data_32], axis=1)"
   ]
  },
  {
   "cell_type": "markdown",
   "metadata": {},
   "source": [
    "## Plot"
   ]
  },
  {
   "cell_type": "code",
   "execution_count": 7,
   "metadata": {},
   "outputs": [
    {
     "data": {
      "text/plain": [
       "[<matplotlib.lines.Line2D at 0x2841f69e0f0>]"
      ]
     },
     "execution_count": 7,
     "metadata": {},
     "output_type": "execute_result"
    },
    {
     "data": {
      "image/png": "[encoded data removed]",
      "text/plain": [
       "<Figure size 432x288 with 1 Axes>"
      ]
     },
     "metadata": {
      "needs_background": "light"
     },
     "output_type": "display_data"
    }
   ],
   "source": [
    "plt.plot(bed_1[0], bed_1[1])\n",
    "plt.plot(bed_2[0], bed_2[1])"
   ]
  },
  {
   "cell_type": "code",
   "execution_count": 8,
   "metadata": {},
   "outputs": [],
   "source": [
    "np.savetxt(\"elevation_1.txt\", bed_1)\n",
    "np.savetxt(\"elevation_2.txt\", bed_2)"
   ]
  },
  {
   "cell_type": "markdown",
   "metadata": {},
   "source": [
    "## Checks"
   ]
  },
  {
   "cell_type": "code",
   "execution_count": 9,
   "metadata": {},
   "outputs": [
    {
     "name": "stdout",
     "output_type": "stream",
     "text": [
      "True\n",
      "True\n"
     ]
    }
   ],
   "source": [
    "print(np.all(bed_1[0,:-1] < bed_1[0,1:]))\n",
    "print(np.all(bed_2[0,:-1] < bed_2[0,1:]))"
   ]
  }
 ],
 "metadata": {
  "kernelspec": {
   "display_name": "Python 3",
   "language": "python",
   "name": "python3"
  },
  "language_info": {
   "codemirror_mode": {
    "name": "ipython",
    "version": 3
   },
   "file_extension": ".py",
   "mimetype": "text/x-python",
   "name": "python",
   "nbconvert_exporter": "python",
   "pygments_lexer": "ipython3",
   "version": "3.7.2"
  }
 },
 "nbformat": 4,
 "nbformat_minor": 2
}
